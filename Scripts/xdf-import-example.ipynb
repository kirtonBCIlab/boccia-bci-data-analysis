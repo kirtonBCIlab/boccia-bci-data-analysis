{
 "cells": [
  {
   "cell_type": "markdown",
   "metadata": {},
   "source": [
    "# XDF import example\n",
    "Use this file as example of how to read `.xdf` files\n",
    "\n",
    "## Import libraries"
   ]
  },
  {
   "cell_type": "code",
   "execution_count": 1,
   "metadata": {},
   "outputs": [],
   "source": [
    "import numpy as np\n",
    "import pyxdf"
   ]
  },
  {
   "cell_type": "markdown",
   "metadata": {},
   "source": [
    "## Import LSL streams"
   ]
  },
  {
   "cell_type": "code",
   "execution_count": 8,
   "metadata": {},
   "outputs": [
    {
     "name": "stdout",
     "output_type": "stream",
     "text": [
      "Stream 0: UnityMarkerStream\n",
      "Stream 1: PythonResponse\n",
      "Stream 2: DSI7-flex\n"
     ]
    }
   ],
   "source": [
    "file = r\"../Data/sub-P001_ses-S001_task-Default_run-001_eeg.xdf\"\n",
    "\n",
    "streams, fileheader = pyxdf.load_xdf(file)\n",
    "\n",
    "for [s, stream] in enumerate(streams):\n",
    "    print(f\"Stream {s}: {stream['info']['name'][0]}\")"
   ]
  },
  {
   "cell_type": "markdown",
   "metadata": {},
   "source": [
    "## Stream info\n",
    "Select markers and time stamps from a specific stream"
   ]
  },
  {
   "cell_type": "code",
   "execution_count": 9,
   "metadata": {},
   "outputs": [],
   "source": [
    "stream_index = 2    ## Select stream of interest from previous cell\n",
    "stream = streams[stream_index]\n",
    "stream_markers = stream['time_series']\n",
    "stream_time = stream['time_stamps']"
   ]
  }
 ],
 "metadata": {
  "kernelspec": {
   "display_name": "boccia",
   "language": "python",
   "name": "python3"
  },
  "language_info": {
   "codemirror_mode": {
    "name": "ipython",
    "version": 3
   },
   "file_extension": ".py",
   "mimetype": "text/x-python",
   "name": "python",
   "nbconvert_exporter": "python",
   "pygments_lexer": "ipython3",
   "version": "3.12.9"
  }
 },
 "nbformat": 4,
 "nbformat_minor": 2
}
